{
 "cells": [
  {
   "cell_type": "code",
   "execution_count": 7,
   "id": "df36b736-2d06-45db-b3d9-2ecc0a4a40d6",
   "metadata": {},
   "outputs": [
    {
     "name": "stdout",
     "output_type": "stream",
     "text": [
      "0     4\n",
      "1     8\n",
      "2    15\n",
      "3    16\n",
      "4    23\n",
      "5    42\n",
      "dtype: int64\n"
     ]
    }
   ],
   "source": [
    "'''\n",
    "Q1. Create a Pandas Series that contains the following data: 4, 8, 15, 16, 23, and 42. Then, print the series.\n",
    "'''\n",
    "\n",
    "import pandas as pd \n",
    "data = [4,8,15,16,23,42]\n",
    "se = pd.Series(data)\n",
    "\n",
    "print(se)"
   ]
  },
  {
   "cell_type": "code",
   "execution_count": 11,
   "id": "a62df3a8-391f-4615-a050-fab4b12a85b5",
   "metadata": {},
   "outputs": [
    {
     "data": {
      "text/plain": [
       "0     1\n",
       "1     2\n",
       "2     3\n",
       "3     4\n",
       "4     5\n",
       "5     6\n",
       "6     7\n",
       "7     8\n",
       "8     9\n",
       "9    10\n",
       "dtype: int64"
      ]
     },
     "execution_count": 11,
     "metadata": {},
     "output_type": "execute_result"
    }
   ],
   "source": [
    "'''\n",
    "Q2. Create a variable of list type containing 10 elements in it, and apply pandas.Series function on the\n",
    "variable print it.\n",
    "'''\n",
    "var = [1,2,3,4,5,6,7,8,9,10]\n",
    "pd.Series(var)"
   ]
  },
  {
   "cell_type": "code",
   "execution_count": 14,
   "id": "370184ac-27cd-4ea1-8fad-dab6fddb9759",
   "metadata": {},
   "outputs": [
    {
     "name": "stdout",
     "output_type": "stream",
     "text": [
      "     Name  Age  Gender\n",
      "0   Alice   25  Female\n",
      "1     Bob   30    Male\n",
      "2  Claire   27  Female\n"
     ]
    }
   ],
   "source": [
    "'''\n",
    "Q3 . create a table in dataframe form and then print it  \n",
    "'''\n",
    "\n",
    "data1 = {\n",
    "    \"Name\":[\"Alice\",\"Bob\",\"Claire\"],\n",
    "    \"Age\" :[25,30,27],\n",
    "    \"Gender\":[\"Female\",\"Male\",\"Female\"]\n",
    "}\n",
    "DF = pd.DataFrame(data1)\n",
    "\n",
    "print(DF)\n"
   ]
  },
  {
   "cell_type": "code",
   "execution_count": null,
   "id": "6fc92680-3f1b-4240-b4f3-d21c21226417",
   "metadata": {},
   "outputs": [],
   "source": [
    "'''\n",
    "Q4. What is ‘DataFrame’ in pandas and how is it different from pandas.series? Explain with an example.\n",
    "'''\n",
    "DaraFrame:\n",
    "    A DataFrame in Pandas is a two-dimensional labeled data structure with columns of potentially different types. \n",
    "    It is essentially a table of data with rows and columns, similar to a spreadsheet or SQL table.\n",
    "    Each column in a DataFrame is a Pandas Series.\n",
    "\n",
    "Different from Series:\n",
    "    A Pandas Series, on the other hand, is a one-dimensional labeled array capable of holding \n",
    "    any data type (integer, string, float, etc.) with an index that identifies each element in the Series.\n",
    "    \n",
    "    "
   ]
  },
  {
   "cell_type": "code",
   "execution_count": 23,
   "id": "2466b3b8-8a82-40f2-9326-d4d8a3cef56f",
   "metadata": {},
   "outputs": [
    {
     "name": "stdout",
     "output_type": "stream",
     "text": [
      "   Age  Gender\n",
      "0   25  Female\n",
      "1   30    Male\n",
      "2   27  Female\n"
     ]
    }
   ],
   "source": [
    "\n",
    "'''\n",
    "Q5. What are some common functions you can use to manipulate data in a Pandas DataFrame? Can\n",
    "you give an example of when you might use one of these functions?\n",
    "'''\n",
    "\n",
    "'''\n",
    "drop(): used to remove rows or columns from a DataFrame. \n",
    "groupby(): used to group data in a DataFrame by one or more columns.\n",
    "merge(): used to combine two or more DataFrames based on a common column.\n",
    "sort_values(): used to sort the data in a DataFrame based on one or more columns.\n",
    "apply(): used to apply a function to each row or column in a DataFrame. \n",
    "\n",
    "\n",
    "example of drop() function in the pandas library\n",
    "'''\n",
    "\n",
    "\n",
    "data2 = {\n",
    "    \"Name\":[\"Alice\",\"Bob\",\"Claire\"],\n",
    "    \"Age\" :[25,30,27],\n",
    "    \"Gender\":[\"Female\",\"Male\",\"Female\"]\n",
    "}\n",
    "df = pd.DataFrame(data2)\n",
    "df = df.drop('Name' ,axis = 1 )     # delete a Name column \n",
    "\n",
    "print(df)\n"
   ]
  },
  {
   "cell_type": "code",
   "execution_count": null,
   "id": "c1f30ab8-030d-4cc8-839d-f5ef289870b4",
   "metadata": {},
   "outputs": [],
   "source": [
    "'''\n",
    "Q6. Which of the following is mutable in nature Series, DataFrame, Panel?\n",
    "'''\n",
    "DaraFrame , Series:\n",
    "    In Pandas, both Series and DataFrame are mutable in nature, which means that you can modify\n",
    "    their values, add or remove columns or rows, and change their structure.\n",
    "\n",
    "panel : \n",
    "    However, Panel is considered to be an immutable data structure in Pandas, \n",
    "    which means that you cannot modify its contents once it has been created. \n",
    "    Instead, you can create a new Panel object with the desired change\n",
    "    \n"
   ]
  },
  {
   "cell_type": "code",
   "execution_count": 29,
   "id": "b8056a99-5f71-468c-af91-a319a8100582",
   "metadata": {},
   "outputs": [
    {
     "ename": "ValueError",
     "evalue": "Shape of passed values is (6, 1), indices imply (6, 6)",
     "output_type": "error",
     "traceback": [
      "\u001b[0;31m---------------------------------------------------------------------------\u001b[0m",
      "\u001b[0;31mValueError\u001b[0m                                Traceback (most recent call last)",
      "Cell \u001b[0;32mIn[29], line 13\u001b[0m\n\u001b[1;32m      9\u001b[0m age \u001b[38;5;241m=\u001b[39m pd\u001b[38;5;241m.\u001b[39mSeries([\u001b[38;5;241m23\u001b[39m,\u001b[38;5;241m12\u001b[39m,\u001b[38;5;241m23\u001b[39m,\u001b[38;5;241m34\u001b[39m,\u001b[38;5;241m45\u001b[39m,\u001b[38;5;241m64\u001b[39m])\n\u001b[1;32m     11\u001b[0m marks \u001b[38;5;241m=\u001b[39m pd\u001b[38;5;241m.\u001b[39mSeries([\u001b[38;5;241m99\u001b[39m,\u001b[38;5;241m87\u001b[39m,\u001b[38;5;241m77\u001b[39m,\u001b[38;5;241m99\u001b[39m,\u001b[38;5;241m87\u001b[39m,\u001b[38;5;241m67\u001b[39m])\n\u001b[0;32m---> 13\u001b[0m datframe\u001b[38;5;241m=\u001b[39m \u001b[43mpd\u001b[49m\u001b[38;5;241;43m.\u001b[39;49m\u001b[43mDataFrame\u001b[49m\u001b[43m(\u001b[49m\u001b[43mroll_no\u001b[49m\u001b[43m \u001b[49m\u001b[43m,\u001b[49m\u001b[43m \u001b[49m\u001b[43mage\u001b[49m\u001b[43m,\u001b[49m\u001b[43m  \u001b[49m\u001b[43mmarks\u001b[49m\u001b[43m)\u001b[49m\n",
      "File \u001b[0;32m/opt/conda/lib/python3.10/site-packages/pandas/core/frame.py:721\u001b[0m, in \u001b[0;36mDataFrame.__init__\u001b[0;34m(self, data, index, columns, dtype, copy)\u001b[0m\n\u001b[1;32m    711\u001b[0m         mgr \u001b[38;5;241m=\u001b[39m dict_to_mgr(\n\u001b[1;32m    712\u001b[0m             \u001b[38;5;66;03m# error: Item \"ndarray\" of \"Union[ndarray, Series, Index]\" has no\u001b[39;00m\n\u001b[1;32m    713\u001b[0m             \u001b[38;5;66;03m# attribute \"name\"\u001b[39;00m\n\u001b[0;32m   (...)\u001b[0m\n\u001b[1;32m    718\u001b[0m             typ\u001b[38;5;241m=\u001b[39mmanager,\n\u001b[1;32m    719\u001b[0m         )\n\u001b[1;32m    720\u001b[0m     \u001b[38;5;28;01melse\u001b[39;00m:\n\u001b[0;32m--> 721\u001b[0m         mgr \u001b[38;5;241m=\u001b[39m \u001b[43mndarray_to_mgr\u001b[49m\u001b[43m(\u001b[49m\n\u001b[1;32m    722\u001b[0m \u001b[43m            \u001b[49m\u001b[43mdata\u001b[49m\u001b[43m,\u001b[49m\n\u001b[1;32m    723\u001b[0m \u001b[43m            \u001b[49m\u001b[43mindex\u001b[49m\u001b[43m,\u001b[49m\n\u001b[1;32m    724\u001b[0m \u001b[43m            \u001b[49m\u001b[43mcolumns\u001b[49m\u001b[43m,\u001b[49m\n\u001b[1;32m    725\u001b[0m \u001b[43m            \u001b[49m\u001b[43mdtype\u001b[49m\u001b[38;5;241;43m=\u001b[39;49m\u001b[43mdtype\u001b[49m\u001b[43m,\u001b[49m\n\u001b[1;32m    726\u001b[0m \u001b[43m            \u001b[49m\u001b[43mcopy\u001b[49m\u001b[38;5;241;43m=\u001b[39;49m\u001b[43mcopy\u001b[49m\u001b[43m,\u001b[49m\n\u001b[1;32m    727\u001b[0m \u001b[43m            \u001b[49m\u001b[43mtyp\u001b[49m\u001b[38;5;241;43m=\u001b[39;49m\u001b[43mmanager\u001b[49m\u001b[43m,\u001b[49m\n\u001b[1;32m    728\u001b[0m \u001b[43m        \u001b[49m\u001b[43m)\u001b[49m\n\u001b[1;32m    730\u001b[0m \u001b[38;5;66;03m# For data is list-like, or Iterable (will consume into list)\u001b[39;00m\n\u001b[1;32m    731\u001b[0m \u001b[38;5;28;01melif\u001b[39;00m is_list_like(data):\n",
      "File \u001b[0;32m/opt/conda/lib/python3.10/site-packages/pandas/core/internals/construction.py:349\u001b[0m, in \u001b[0;36mndarray_to_mgr\u001b[0;34m(values, index, columns, dtype, copy, typ)\u001b[0m\n\u001b[1;32m    344\u001b[0m \u001b[38;5;66;03m# _prep_ndarraylike ensures that values.ndim == 2 at this point\u001b[39;00m\n\u001b[1;32m    345\u001b[0m index, columns \u001b[38;5;241m=\u001b[39m _get_axes(\n\u001b[1;32m    346\u001b[0m     values\u001b[38;5;241m.\u001b[39mshape[\u001b[38;5;241m0\u001b[39m], values\u001b[38;5;241m.\u001b[39mshape[\u001b[38;5;241m1\u001b[39m], index\u001b[38;5;241m=\u001b[39mindex, columns\u001b[38;5;241m=\u001b[39mcolumns\n\u001b[1;32m    347\u001b[0m )\n\u001b[0;32m--> 349\u001b[0m \u001b[43m_check_values_indices_shape_match\u001b[49m\u001b[43m(\u001b[49m\u001b[43mvalues\u001b[49m\u001b[43m,\u001b[49m\u001b[43m \u001b[49m\u001b[43mindex\u001b[49m\u001b[43m,\u001b[49m\u001b[43m \u001b[49m\u001b[43mcolumns\u001b[49m\u001b[43m)\u001b[49m\n\u001b[1;32m    351\u001b[0m \u001b[38;5;28;01mif\u001b[39;00m typ \u001b[38;5;241m==\u001b[39m \u001b[38;5;124m\"\u001b[39m\u001b[38;5;124marray\u001b[39m\u001b[38;5;124m\"\u001b[39m:\n\u001b[1;32m    353\u001b[0m     \u001b[38;5;28;01mif\u001b[39;00m \u001b[38;5;28missubclass\u001b[39m(values\u001b[38;5;241m.\u001b[39mdtype\u001b[38;5;241m.\u001b[39mtype, \u001b[38;5;28mstr\u001b[39m):\n",
      "File \u001b[0;32m/opt/conda/lib/python3.10/site-packages/pandas/core/internals/construction.py:420\u001b[0m, in \u001b[0;36m_check_values_indices_shape_match\u001b[0;34m(values, index, columns)\u001b[0m\n\u001b[1;32m    418\u001b[0m passed \u001b[38;5;241m=\u001b[39m values\u001b[38;5;241m.\u001b[39mshape\n\u001b[1;32m    419\u001b[0m implied \u001b[38;5;241m=\u001b[39m (\u001b[38;5;28mlen\u001b[39m(index), \u001b[38;5;28mlen\u001b[39m(columns))\n\u001b[0;32m--> 420\u001b[0m \u001b[38;5;28;01mraise\u001b[39;00m \u001b[38;5;167;01mValueError\u001b[39;00m(\u001b[38;5;124mf\u001b[39m\u001b[38;5;124m\"\u001b[39m\u001b[38;5;124mShape of passed values is \u001b[39m\u001b[38;5;132;01m{\u001b[39;00mpassed\u001b[38;5;132;01m}\u001b[39;00m\u001b[38;5;124m, indices imply \u001b[39m\u001b[38;5;132;01m{\u001b[39;00mimplied\u001b[38;5;132;01m}\u001b[39;00m\u001b[38;5;124m\"\u001b[39m)\n",
      "\u001b[0;31mValueError\u001b[0m: Shape of passed values is (6, 1), indices imply (6, 6)"
     ]
    }
   ],
   "source": [
    "'''\n",
    "Q7. Create a DataFrame using multiple Series. Explain with an example.\n",
    "'''\n",
    "\n",
    "import pandas as pd\n",
    "\n",
    "roll_no =pd.Series([1,2,3,4,5,6])\n",
    "\n",
    "age = pd.Series([23,12,23,34,45,64])\n",
    "\n",
    "marks = pd.Series([99,87,77,99,87,67])\n",
    "\n",
    "datframe= pd.DataFrame(Roll_NO\"roll_no , age,  marks)\n",
    "\n",
    "\n"
   ]
  },
  {
   "cell_type": "code",
   "execution_count": null,
   "id": "e1b4b928-591a-4883-9f6e-db74130f9ac1",
   "metadata": {},
   "outputs": [],
   "source": []
  }
 ],
 "metadata": {
  "kernelspec": {
   "display_name": "Python 3 (ipykernel)",
   "language": "python",
   "name": "python3"
  },
  "language_info": {
   "codemirror_mode": {
    "name": "ipython",
    "version": 3
   },
   "file_extension": ".py",
   "mimetype": "text/x-python",
   "name": "python",
   "nbconvert_exporter": "python",
   "pygments_lexer": "ipython3",
   "version": "3.10.8"
  }
 },
 "nbformat": 4,
 "nbformat_minor": 5
}
